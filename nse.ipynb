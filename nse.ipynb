{
 "cells": [
  {
   "cell_type": "code",
   "execution_count": 44,
   "metadata": {},
   "outputs": [
    {
     "name": "stdout",
     "output_type": "stream",
     "text": [
      "Requirement already satisfied: nselib in c:\\users\\arush bansal\\anaconda3\\envs\\iit_stock\\lib\\site-packages (0.7)\n",
      "Requirement already satisfied: requests in c:\\users\\arush bansal\\anaconda3\\envs\\iit_stock\\lib\\site-packages (from nselib) (2.31.0)\n",
      "Requirement already satisfied: pandas in c:\\users\\arush bansal\\anaconda3\\envs\\iit_stock\\lib\\site-packages (from nselib) (2.1.4)\n",
      "Requirement already satisfied: scipy in c:\\users\\arush bansal\\anaconda3\\envs\\iit_stock\\lib\\site-packages (from nselib) (1.11.4)\n",
      "Requirement already satisfied: numpy<2,>=1.22.4 in c:\\users\\arush bansal\\anaconda3\\envs\\iit_stock\\lib\\site-packages (from pandas->nselib) (1.26.3)\n",
      "Requirement already satisfied: python-dateutil>=2.8.2 in c:\\users\\arush bansal\\anaconda3\\envs\\iit_stock\\lib\\site-packages (from pandas->nselib) (2.8.2)\n",
      "Requirement already satisfied: pytz>=2020.1 in c:\\users\\arush bansal\\anaconda3\\envs\\iit_stock\\lib\\site-packages (from pandas->nselib) (2023.3.post1)\n",
      "Requirement already satisfied: tzdata>=2022.1 in c:\\users\\arush bansal\\anaconda3\\envs\\iit_stock\\lib\\site-packages (from pandas->nselib) (2023.4)\n",
      "Requirement already satisfied: charset-normalizer<4,>=2 in c:\\users\\arush bansal\\anaconda3\\envs\\iit_stock\\lib\\site-packages (from requests->nselib) (3.3.2)\n",
      "Requirement already satisfied: idna<4,>=2.5 in c:\\users\\arush bansal\\anaconda3\\envs\\iit_stock\\lib\\site-packages (from requests->nselib) (3.6)\n",
      "Requirement already satisfied: urllib3<3,>=1.21.1 in c:\\users\\arush bansal\\anaconda3\\envs\\iit_stock\\lib\\site-packages (from requests->nselib) (2.1.0)\n",
      "Requirement already satisfied: certifi>=2017.4.17 in c:\\users\\arush bansal\\anaconda3\\envs\\iit_stock\\lib\\site-packages (from requests->nselib) (2023.11.17)\n",
      "Requirement already satisfied: six>=1.5 in c:\\users\\arush bansal\\anaconda3\\envs\\iit_stock\\lib\\site-packages (from python-dateutil>=2.8.2->pandas->nselib) (1.16.0)\n",
      "Note: you may need to restart the kernel to use updated packages.\n"
     ]
    }
   ],
   "source": [
    "%pip install nselib"
   ]
  },
  {
   "cell_type": "code",
   "execution_count": 13,
   "metadata": {},
   "outputs": [],
   "source": [
    "from nselib import capital_market\n",
    "import nselib\n",
    "from datetime import date"
   ]
  },
  {
   "cell_type": "code",
   "execution_count": 43,
   "metadata": {},
   "outputs": [],
   "source": [
    "nselib.trading_holiday_calendar().to_csv(\"data/trading holiday canander.csv\")"
   ]
  },
  {
   "cell_type": "code",
   "execution_count": 20,
   "metadata": {},
   "outputs": [],
   "source": [
    "df = capital_market.bhav_copy_equities(\"16-1-2024\")\n",
    "df.to_csv(\"default.csv\")"
   ]
  },
  {
   "cell_type": "code",
   "execution_count": 42,
   "metadata": {},
   "outputs": [
    {
     "name": "stderr",
     "output_type": "stream",
     "text": [
      "c:\\Users\\Arush Bansal\\anaconda3\\envs\\iit_stock\\lib\\site-packages\\nselib\\capital_market\\capital_market_data.py:322: FutureWarning: The behavior of DataFrame concatenation with empty or all-NA entries is deprecated. In a future version, this will no longer exclude empty or all-NA columns when determining the result dtypes. To retain the old behavior, exclude the relevant entries before the concat operation.\n",
      "  nse_df = pd.concat([nse_df, data_df], ignore_index=True)\n"
     ]
    }
   ],
   "source": [
    "capital_market.block_deals_data(period=\"1D\").to_csv(\"data/blcok_details_data_last_day.csv\")"
   ]
  },
  {
   "cell_type": "code",
   "execution_count": 33,
   "metadata": {},
   "outputs": [],
   "source": [
    "capital_market.deliverable_position_data(\"SBIN\", from_date=\"10-03-2005\", to_date=\"10-03-2025\").to_csv(\"data/SBI2005to2025\")"
   ]
  },
  {
   "cell_type": "code",
   "execution_count": 36,
   "metadata": {},
   "outputs": [
    {
     "name": "stderr",
     "output_type": "stream",
     "text": [
      "c:\\Users\\Arush Bansal\\anaconda3\\envs\\iit_stock\\lib\\site-packages\\nselib\\capital_market\\capital_market_data.py:226: FutureWarning: The behavior of DataFrame concatenation with empty or all-NA entries is deprecated. In a future version, this will no longer exclude empty or all-NA columns when determining the result dtypes. To retain the old behavior, exclude the relevant entries before the concat operation.\n",
      "  nse_df = pd.concat([nse_df, data_df], ignore_index=True)\n"
     ]
    }
   ],
   "source": [
    "capital_market.index_data(\"NIFTY 50\", period=\"1M\").to_csv(\"data/nifty50pastmonth.csv\")"
   ]
  },
  {
   "cell_type": "code",
   "execution_count": 37,
   "metadata": {},
   "outputs": [],
   "source": [
    "capital_market.nifty50_equity_list().to_csv(\"data/nifty50_equity_list.csv\")"
   ]
  },
  {
   "cell_type": "code",
   "execution_count": null,
   "metadata": {},
   "outputs": [],
   "source": []
  },
  {
   "cell_type": "code",
   "execution_count": null,
   "metadata": {},
   "outputs": [],
   "source": []
  }
 ],
 "metadata": {
  "kernelspec": {
   "display_name": "Python 3",
   "language": "python",
   "name": "python3"
  },
  "language_info": {
   "codemirror_mode": {
    "name": "ipython",
    "version": 3
   },
   "file_extension": ".py",
   "mimetype": "text/x-python",
   "name": "python",
   "nbconvert_exporter": "python",
   "pygments_lexer": "ipython3",
   "version": "3.9.18"
  }
 },
 "nbformat": 4,
 "nbformat_minor": 2
}
